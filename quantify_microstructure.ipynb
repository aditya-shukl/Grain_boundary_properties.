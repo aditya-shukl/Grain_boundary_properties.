{
 "cells": [
  {
   "cell_type": "code",
   "execution_count": 3,
   "id": "2e57cc27",
   "metadata": {},
   "outputs": [],
   "source": [
    "import h5py\n",
    "import numpy as np\n",
    "import pickle\n",
    "\n",
    "import pylab as plt\n",
    "from xfab.symmetry import Umis\n",
    "from diffpy.structure import Atom, Lattice, Structure\n",
    "from orix import plot, sampling\n",
    "from orix.quaternion import Orientation, symmetry\n",
    "from orix.crystal_map import Phase\n",
    "from orix.quaternion import Rotation\n",
    "from orix.vector import Miller\n",
    "from orix.vector import Vector3d\n",
    "from orix.quaternion import Misorientation\n",
    "from scipy import ndimage"
   ]
  },
  {
   "cell_type": "code",
   "execution_count": 4,
   "id": "1d28ea03",
   "metadata": {},
   "outputs": [],
   "source": [
    "def getnewid(gid,newtoolddict):\n",
    "    for k in newtoolddict:\n",
    "        if newtoolddict[k]==gid:\n",
    "            break\n",
    "    return k"
   ]
  },
  {
   "cell_type": "code",
   "execution_count": 7,
   "id": "2cb6489f",
   "metadata": {},
   "outputs": [
    {
     "name": "stdout",
     "output_type": "stream",
     "text": [
      "<KeysViewHDF5 ['FaceData', 'FaceFeatureData', 'FaceFeatureData2', 'VertexData', '_SIMPL_GEOMETRY']>\n"
     ]
    }
   ],
   "source": [
    "### old_grainmap\n",
    "filepath='../../september/150924/dream3d_results/meshed_pre.dream3d'\n",
    "with h5py.File (filepath,'r') as hin:\n",
    "    print (hin['DataContainers/TriangleDataContainer'].keys())\n",
    "    #print (hin['DataStructure/TriangleDataContainer/Face Data'].keys())\n",
    "    grainid1=hin['DataContainers/DataContainer/CellData/FeatureIds'][()]\n",
    "    strain=hin['DataContainers/DataContainer/CellData/vol_st'][()]\n",
    "    fl1=hin['DataContainers/TriangleDataContainer/FaceData/FaceLabels'][()]\n",
    "    pv1=hin['DataContainers/TriangleDataContainer/FaceData/vol_st'][()]\n",
    "    #phaseid1=hin['DataContainers/DataContainer/CellData/phaseid'][()]\n",
    "    #eu1=hin['DataContainers/DataContainer/Grain Data/EulerAngles'][()]\n",
    "    #nl1=hin['DataContainers/DataContainer/Grain Data/NeighborList'][()]\n",
    "    #ml1=hin['DataContainers/DataContainer/Grain Data/MisorientationList'][()]  \n",
    "    #nn1=hin['DataContainers/DataContainer/Grain Data/NumNeighbors'][()]   \n",
    "    #nn1=nn1[:,0]\n",
    "    #phaseid1=phaseid1[:,:,:,0]\n",
    "    #of1=of1[:,:,:,0]\n",
    "    pic1=hin['DataContainers/DataContainer/CellData/phaseid_c'][()]\n",
    "    pic1=pic1[:,:,:,0]\n",
    "    grainid1=grainid1[:,:,:,0]\n",
    "    strain=strain[:,:,:,0]"
   ]
  },
  {
   "cell_type": "code",
   "execution_count": 8,
   "id": "9f26a9d5",
   "metadata": {},
   "outputs": [],
   "source": [
    "###\n",
    "ni1=np.where(pic1==2,grainid1,0)\n",
    "ysz1=np.where(pic1==3,grainid1,0)\n",
    "#ni2=np.where(pic2==2,grainid2,0)\n",
    "#ysz2=np.where(pic2==3,grainid2,0)"
   ]
  },
  {
   "cell_type": "code",
   "execution_count": 9,
   "id": "83732d77",
   "metadata": {
    "scrolled": true
   },
   "outputs": [
    {
     "name": "stdout",
     "output_type": "stream",
     "text": [
      "137194 291 1696 err\n",
      "137195 291 1696 err\n"
     ]
    }
   ],
   "source": [
    "### ni pore pre\n",
    "fl=fl1 #featurelabelarray\n",
    "\n",
    "\n",
    "##mean\n",
    "k1=pv1\n",
    "#k2=k21\n",
    "\n",
    "curvature_values_pre_m=[]\n",
    "\n",
    "pairs_done=[]\n",
    "\n",
    "for i in range(fl.shape[0]):\n",
    "    \n",
    "    id1=fl[i][0]\n",
    "    id2=fl[i][1]\n",
    "    if (id1==-1)|(id2==-1):\n",
    "        continue\n",
    "    if (id1==0)|(id2==0):\n",
    "        continue\n",
    "    if ((id1 in ni1)&(id2 in ni1)):\n",
    "        continue\n",
    "    if ((id1 in ysz1)&(id2 in ysz1)):\n",
    "        continue\n",
    "    #print (i,np.isnan(k1[i][0]),np.isnan(k1[i][1]))\n",
    "    pairs_done.append([id1,id2])   \n",
    "    if ((np.isnan(k1[i][0]))&(np.isnan(k1[i][1]))):\n",
    "        print (i,id1,id2,'err')\n",
    "        continue\n",
    "    if id1 in ysz1:\n",
    "        if np.isnan(k1[i][0]):\n",
    "            continue\n",
    "        mean=k1[i][0]\n",
    "    elif id2 in ysz1:\n",
    "        if np.isnan(k1[i][1]):\n",
    "            continue\n",
    "        mean=k1[i][1]\n",
    "\n",
    "    if abs(mean)<0.000001:\n",
    "        continue\n",
    "    curvature_values_pre_m.append(mean)\n",
    "    \n",
    "area_np_pre=np.array(curvature_values_pre_m)\n"
   ]
  },
  {
   "cell_type": "code",
   "execution_count": 15,
   "id": "7a4b6119",
   "metadata": {},
   "outputs": [
    {
     "data": {
      "image/png": "[encoded data removed]",
      "text/plain": [
       "<Figure size 640x480 with 1 Axes>"
      ]
     },
     "metadata": {},
     "output_type": "display_data"
    }
   ],
   "source": [
    "\n",
    "plt.hist(area_np_pre,bins=1000)\n",
    "plt.xlim(-0.005,0.007)\n",
    "plt.show()\n"
   ]
  },
  {
   "cell_type": "code",
   "execution_count": null,
   "id": "3c8bdd38",
   "metadata": {},
   "outputs": [],
   "source": []
  }
 ],
 "metadata": {
  "kernelspec": {
   "display_name": "orix_env",
   "language": "python",
   "name": "orix_env"
  },
  "language_info": {
   "codemirror_mode": {
    "name": "ipython",
    "version": 3
   },
   "file_extension": ".py",
   "mimetype": "text/x-python",
   "name": "python",
   "nbconvert_exporter": "python",
   "pygments_lexer": "ipython3",
   "version": "3.8.0"
  }
 },
 "nbformat": 4,
 "nbformat_minor": 5
}
