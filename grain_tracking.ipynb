{
 "cells": [
  {
   "cell_type": "code",
   "execution_count": 5,
   "id": "3d7cff46-ead3-4bf0-9013-0caa64631fd5",
   "metadata": {},
   "outputs": [],
   "source": [
    "import h5py\n",
    "import pickle\n",
    "import numpy as np\n",
    "import pylab as plt\n",
    "from xfab.symmetry import Umis\n",
    "from multiprocessing import Pool"
   ]
  },
  {
   "cell_type": "code",
   "execution_count": 6,
   "id": "c3b5b859",
   "metadata": {},
   "outputs": [],
   "source": [
    "%matplotlib inline\n",
    "from scipy.ndimage import center_of_mass\n",
    "from diffpy.structure import Atom, Lattice, Structure\n",
    "import matplotlib.pyplot as plt\n",
    "import numpy as np\n",
    "from orix import plot, sampling\n",
    "from orix.quaternion import Orientation, symmetry\n",
    "from orix.crystal_map import Phase\n",
    "from orix.quaternion import Rotation\n",
    "from orix.vector import Miller\n",
    "from orix.vector import Vector3d\n",
    "from orix.quaternion import Misorientation\n",
    "plt.rcParams.update(\n",
    "    {\n",
    "        \"figure.figsize\": (10, 5),\n",
    "        \"font.size\": 20,\n",
    "        \"axes.grid\": True,\n",
    "        \"lines.markersize\": 10,\n",
    "        \"lines.linewidth\": 3,\n",
    "    }\n",
    ")"
   ]
  },
  {
   "cell_type": "code",
   "execution_count": 9,
   "id": "2269aeec",
   "metadata": {},
   "outputs": [],
   "source": [
    "#### misori xfab\n",
    "def calcmisori(array1,array2,gid1,gid2):\n",
    "    o1 = Orientation.from_euler(array1[gid1],symmetry=cubic.point_group)\n",
    "    o2 = Orientation.from_euler(array2[gid2],symmetry=cubic.point_group)\n",
    "    o1m=np.linalg.inv(o1.to_matrix()[0])\n",
    "    o2m=np.linalg.inv(o2.to_matrix()[0])\n",
    "    misori=misorien_deg(o1m,o2m)\n",
    "    return misori\n",
    "def misorien_deg(U1, U2):\n",
    "    return np.min(Umis(U1, U2, 7), axis=0)[1]  # 7 == cubic\n",
    "def translate(array,translate_x,translate_y):\n",
    "    l=[]\n",
    "    for i in range (array.shape[0]):\n",
    "        layer=array[i,:,:]\n",
    "        translated=np.roll(layer,translate_x,axis=0)\n",
    "        translated=np.roll(translated,translate_y,axis=1)\n",
    "\n",
    "        l.append(translated)\n",
    "    return np.array(l)\n",
    "def rotate_array_180(array):\n",
    "    l=[]\n",
    "    for i in range (array.shape[0]):\n",
    "        layer=array[i,:,:]\n",
    "        rotated=np.rot90(np.rot90(layer))\n",
    "        l.append(rotated)\n",
    "    return np.array(l)\n",
    "def calc_com_z(grainidarray,grainid):\n",
    "    com_mask=grainidarray==grainid\n",
    "    com_z_array=np.sum(np.sum(com_mask,axis=1),axis=1)\n",
    "    com_z=np.where(com_z_array>0)[0]\n",
    "    index=[]\n",
    "    weights=[]\n",
    "    for i in com_z:\n",
    "        index.append(i)\n",
    "        weights.append(com_z_array[i])\n",
    "    weights=np.array(weights)\n",
    "    index=np.array(index)\n",
    "    wi=np.sum((weights*index)/np.sum(weights))\n",
    "    \n",
    "    return wi\n",
    "def calc_com_y(grainidarray,grainid):\n",
    "    com_mask=grainidarray==grainid\n",
    "    com_z_array=np.sum(np.sum(com_mask,axis=1),axis=0)\n",
    "    com_z=np.where(com_z_array>0)[0]\n",
    "    index=[]\n",
    "    weights=[]\n",
    "    for i in com_z:\n",
    "        index.append(i)\n",
    "        weights.append(com_z_array[i])\n",
    "    weights=np.array(weights)\n",
    "    index=np.array(index)\n",
    "    wi=np.sum((weights*index)/np.sum(weights))\n",
    "    \n",
    "    return wi\n",
    "def calc_com_z(grainidarray,grainid):\n",
    "    com_mask=grainidarray==grainid\n",
    "    com_z_array=np.sum(np.sum(com_mask,axis=1),axis=1)\n",
    "    com_z=np.where(com_z_array>0)[0]\n",
    "    index=[]\n",
    "    weights=[]\n",
    "    for i in com_z:\n",
    "        index.append(i)\n",
    "        weights.append(com_z_array[i])\n",
    "    weights=np.array(weights)\n",
    "    index=np.array(index)\n",
    "    wi=np.sum((weights*index)/np.sum(weights))\n",
    "    \n",
    "    return wi\n",
    "def calc_com_x(grainidarray,grainid):\n",
    "    com_mask=grainidarray==grainid\n",
    "    com_z_array=np.sum(np.sum(com_mask,axis=2),axis=0)\n",
    "    com_z=np.where(com_z_array>0)[0]\n",
    "    index=[]\n",
    "    weights=[]\n",
    "    for i in com_z:\n",
    "        index.append(i)\n",
    "        weights.append(com_z_array[i])\n",
    "    weights=np.array(weights)\n",
    "    index=np.array(index)\n",
    "    wi=np.sum((weights*index)/np.sum(weights))\n",
    "    \n",
    "    return wi\n",
    "def getchildgrains(parentid,postheat=True):\n",
    "    if not postheat:\n",
    "        return 'change function'\n",
    "    mask=grainid_merged_post==parentid\n",
    "    grainids=grainid_post[mask]\n",
    "    return np.unique(grainids)\n",
    "def calc_com_distance(grainidarray1,grainidarray2,grainid1,grainid2):\n",
    "    comz1=calc_com_z(grainidarray1,grainid1)\n",
    "    comz2=calc_com_z(grainidarray2,grainid2)\n",
    "    z1_z2=(abs(comz1-comz2))**2\n",
    "    comy1=calc_com_y(grainidarray1,grainid1)\n",
    "    comy2=calc_com_y(grainidarray2,grainid2)\n",
    "    y1_y2=(abs(comy1-comy2))**2\n",
    "    comx1=calc_com_x(grainidarray1,grainid1)\n",
    "    comx2=calc_com_x(grainidarray2,grainid2)\n",
    "    x1_x2=abs(comx1-comx2)**2\n",
    "    return np.sqrt(z1_z2+y1_y2+x1_x2)\n",
    "def checktwins(matrix1,matrix2):\n",
    "    om1=Orientation.from_matrix(matrix1,symmetry=cubic.point_group)\n",
    "    om2=Orientation.from_matrix(matrix2,symmetry=cubic.point_group)\n",
    "    mori=Misorientation(~om1* om2)\n",
    "    mori=Misorientation(~om1* om2)\n",
    "    mori.symmetry=(om1.symmetry,om1.symmetry)\n",
    "    mori=mori.map_into_symmetry_reduced_zone()\n",
    "    if abs(60-((mori.angle)*(180/np.pi)))<2:\n",
    "        newarray= (np.round(abs(mori.axis.data[0]),1))\n",
    "        if abs(newarray[1]-newarray[0])<0.21:\n",
    "            if abs(newarray[2]-newarray[0])<0.21:\n",
    "                return True"
   ]
  },
  {
   "cell_type": "code",
   "execution_count": 10,
   "id": "e3d161f5",
   "metadata": {},
   "outputs": [
    {
     "name": "stdout",
     "output_type": "stream",
     "text": [
      "<KeysViewHDF5 ['Allvolume', 'BoundaryCells', 'BoundaryCells2', 'EulerAngles', 'FeatureIds', 'GBManhattanDistances', 'IPFColor', 'IPFColor2', 'KernelAverageMisorientations', 'Mask', 'ParentIds', 'allvolume', 'phaseid', 'phaseid_c', 'quats']>\n",
      "<KeysViewHDF5 ['Active', 'AvgMisorientations', 'AvgQuats', 'EquivalentDiameters', 'EquivalentDiameters2', 'EulerAngles', 'MisorientationList', 'MisorientationList_NumNeighbors', 'NeighborList', 'NumElements', 'NumElements2', 'NumNeighbors', 'NumNeighbors2', 'ParentIds', 'Phases', 'SharedSurfaceAreaList', 'SurfaceFeatures', 'SurfaceFeatures2', 'Volumes', 'Volumes2']>\n"
     ]
    }
   ],
   "source": [
    "with h5py.File ('../../../september/rawdata/dream3D/step2_segment_pre_align_combined_ysz.dream3d','r') as hin:\n",
    "    print (hin['DataContainers/DataContainer/CellData/'].keys())#[()]\n",
    "    print (hin['DataContainers/DataContainer/Grain Data/'].keys())#[()]\n",
    "    grainid1=hin['DataContainers/DataContainer/CellData/FeatureIds'][()]\n",
    "    phaseid1=hin['DataContainers/DataContainer/CellData/phaseid'][()]\n",
    "    nl1=hin['DataContainers/DataContainer/Grain Data/NeighborList'][()]\n",
    "    #of1=hin['DataContainers/DataContainer/CellData/oldfis'][()]  \n",
    "    eu1=hin['DataContainers/DataContainer/Grain Data/EulerAngles'][()]\n",
    "    ml1=hin['DataContainers/DataContainer/Grain Data/MisorientationList'][()]  \n",
    "    nn1=hin['DataContainers/DataContainer/Grain Data/NumNeighbors'][()]   \n",
    "    nn1=nn1[:,0]\n",
    "    phaseid1=phaseid1[:,:,:,0]\n",
    "    #of1=of1[:,:,:,0]\n",
    "    pic1=hin['DataContainers/DataContainer/CellData/phaseid_c'][()]\n",
    "    pic1=pic1[:,:,:,0]\n",
    "    grainid1=grainid1[:,:,:,0]\n"
   ]
  },
  {
   "cell_type": "code",
   "execution_count": 12,
   "id": "ddcedfa2",
   "metadata": {},
   "outputs": [
    {
     "name": "stdout",
     "output_type": "stream",
     "text": [
      "<KeysViewHDF5 ['Allvolume', 'BoundaryCells', 'BoundaryCells2', 'EulerAngles', 'FeatureIds', 'GBManhattanDistances', 'IPFColor', 'IPFColor2', 'KernelAverageMisorientations', 'Mask', 'ParentIds', 'allvolume', 'phaseid', 'phaseid_c', 'quats']>\n",
      "<KeysViewHDF5 ['Active', 'AvgMisorientations', 'AvgQuats', 'EquivalentDiameters', 'EquivalentDiameters2', 'EulerAngles', 'MisorientationList', 'MisorientationList_NumNeighbors', 'NeighborList', 'NumElements', 'NumElements2', 'NumNeighbors', 'NumNeighbors2', 'ParentIds', 'Phases', 'SharedSurfaceAreaList', 'SurfaceFeatures', 'SurfaceFeatures2', 'Volumes', 'Volumes2']>\n"
     ]
    }
   ],
   "source": [
    "with h5py.File ('../../../september/rawdata/dream3D/step2_segment_post_align_combined_ysz.dream3d','r') as hin:\n",
    "    print (hin['DataContainers/DataContainer/CellData/'].keys())#[()]\n",
    "    print (hin['DataContainers/DataContainer/Grain Data/'].keys())#[()]\n",
    "    \n",
    "    grainid2=hin['DataContainers/DataContainer/CellData/FeatureIds'][()]\n",
    "    phaseid2=hin['DataContainers/DataContainer/CellData/phaseid'][()]\n",
    "    nl2=hin['DataContainers/DataContainer/Grain Data/NeighborList'][()]  \n",
    "    ml2=hin['DataContainers/DataContainer/Grain Data/MisorientationList'][()]  \n",
    "    nn2=hin['DataContainers/DataContainer/Grain Data/NumNeighbors'][()]\n",
    "    eu2=hin['DataContainers/DataContainer/Grain Data/EulerAngles'][()]\n",
    "    nn2=nn2[:,0]\n",
    "    phaseid2=phaseid2[:,:,:,0]\n",
    "    #of2=hin['DataContainers/DataContainer/CellData/oldfis'][()]  \n",
    "    pic2=hin['DataContainers/DataContainer/CellData/phaseid_c'][()]   \n",
    "    pic2=pic2[:,:,:,0]\n",
    "    #of2=of2[:,:,:,0]\n",
    "    grainid2=grainid2[:,:,:,0]\n"
   ]
  },
  {
   "cell_type": "code",
   "execution_count": 13,
   "id": "623f4d8f",
   "metadata": {},
   "outputs": [],
   "source": [
    "listmisori_post=[]\n",
    "c=0\n",
    "for grain in np.unique(grainid2): \n",
    "    numn=nn2[grain]\n",
    "    start=c\n",
    "    end=c+numn\n",
    "    listn=ml2[start:end]\n",
    "    c+=numn\n",
    "    listmisori_post.append(list(listn))"
   ]
  },
  {
   "cell_type": "code",
   "execution_count": 14,
   "id": "fd00f967",
   "metadata": {},
   "outputs": [],
   "source": [
    "### get list of neighbors to each grain id\n",
    "listnb_post=[]\n",
    "c=0\n",
    "for grain in np.unique(grainid2): \n",
    "    numn=nn2[grain]\n",
    "    start=c\n",
    "    end=c+numn\n",
    "    listn=nl2[start:end]\n",
    "    c+=numn\n",
    "    listnb_post.append(list(listn))\n"
   ]
  },
  {
   "cell_type": "code",
   "execution_count": 17,
   "id": "9e54513f",
   "metadata": {},
   "outputs": [
    {
     "data": {
      "text/plain": [
       "[30, 31, 85, 122, 126, 176, 180, 193, 241, 291, 320, 364, 401]"
      ]
     },
     "execution_count": 17,
     "metadata": {},
     "output_type": "execute_result"
    }
   ],
   "source": [
    "listnb_post[246]"
   ]
  },
  {
   "cell_type": "code",
   "execution_count": 6,
   "id": "7d408ae6",
   "metadata": {},
   "outputs": [],
   "source": [
    "cubic = Phase(point_group=\"m-3m\", structure=Structure())\n",
    "o1 = Orientation.from_euler(eu1,symmetry=cubic.point_group)\n",
    "o2 = Orientation.from_euler(eu2,symmetry=cubic.point_group)\n",
    "\n",
    "o1m = np.linalg.inv(o1.to_matrix())\n",
    "o2m = np.linalg.inv(o2.to_matrix())\n"
   ]
  },
  {
   "cell_type": "code",
   "execution_count": 7,
   "id": "1746828d",
   "metadata": {},
   "outputs": [],
   "source": [
    "grainid_pre=grainid1\n",
    "grainid_post=grainid2\n"
   ]
  },
  {
   "cell_type": "code",
   "execution_count": 146,
   "id": "b2a22c9d",
   "metadata": {},
   "outputs": [
    {
     "name": "stdout",
     "output_type": "stream",
     "text": [
      "80.77698050134131\n",
      "60.61728153242721\n"
     ]
    }
   ],
   "source": [
    "### calculate individual misoris\n",
    "misori=misorien_deg(o1m[466],o2m[119])\n",
    "print (calc_com_distance(grainid_pre,grainid_post,228,322))\n",
    "print (misori)"
   ]
  },
  {
   "cell_type": "code",
   "execution_count": 173,
   "id": "ece0f922",
   "metadata": {},
   "outputs": [
    {
     "name": "stdout",
     "output_type": "stream",
     "text": [
      "123456789101112131415161718192021222324252627282930313233343536373839404142434445464748495051525354555657585960616263646566676869707172737475767778798081828384858687888990919293949596979899100101102103104105106107108109110111112113114115116117118119120121122123124125126127128129130131132133134135136137138139140141142143144145146147148149150151152153154155156157158159160161162163164165166167168169170171172173174175176177178179180181182183184185186187188189190191192193194195196197198199200201202203204205206207208209210211212213214215216217218219220221222223224225226227228229230231232233234235236237238239240241242243244245246247248249250251252253254255256257258259260261262263264265266267268269270271272273274275276277278279280281282283284285286287288289290291292293294295296297298299300301302303304305306307308309310311312313314315316317318319320321322323324325326327328329330331332333334335336337338339340341342343344345346347348349350351352353354355356357358359360361362363364365366367368369370371372373374375376377378379380381382383384385386387388389390391392393394395396397398399400401402403404405406407408409410411412413414415416417418419420421422423424425426427428429430431432433434435436437438439440441442443444445446447448449450451452453454455456457458459460461462463464465466467468469470471472473474475476477478479480481482483484485486487488489490491492493494495496497498499500501502503504505506507508509510511512513514515516517518519520521522523524525526527528529530531532533534535536537538539540541542543544545546547548549550551552553554555556557558559560561562563564565566567568569570571572573574575576577578579580581582583584585586587588589590591592593594595596597598599600601602603604605606607608609610611612613"
     ]
    }
   ],
   "source": [
    "# Create a dict of pairs of post data tro pre data\n",
    "pairs={}\n",
    "for i in range(1, o2.shape[0]):\n",
    "    pairs[i]=[]\n",
    "    for j in range(1, o1.shape[0] - 1):\n",
    "        misori=misorien_deg(o2m[i],o1m[j])\n",
    "        \n",
    "        #com_dist=calc_com_distance(grainid_pre,grainid_post,j,i)\n",
    "        if (misori<4):\n",
    "            pairs[i].append(j)\n",
    "                \n",
    "        #if (misori<2) or ((60-misori<2)&(misori<60)):\n",
    "    print (i,end='')"
   ]
  },
  {
   "cell_type": "code",
   "execution_count": 174,
   "id": "3d47ce28",
   "metadata": {},
   "outputs": [],
   "source": [
    "#### com distance filter for pairs\n",
    "for i in pairs:\n",
    "    if len(pairs[i])==0:\n",
    "        continue\n",
    "    l=[]\n",
    "    trash=[]\n",
    "    for j in pairs[i]:\n",
    "        dist=calc_com_distance(grainid_pre,grainid_post,j,i)\n",
    "        if dist>7:\n",
    "            trash.append(j)\n",
    "    for t in trash:\n",
    "        pairs[i].remove(t)\n",
    "\n"
   ]
  },
  {
   "cell_type": "code",
   "execution_count": 176,
   "id": "fdb09c23",
   "metadata": {},
   "outputs": [],
   "source": [
    "#### get a list of grains that have been already chosen.\n",
    "preheat_chosen=[]\n",
    "for i in pairs:\n",
    "    if len(pairs[i])==0:\n",
    "        continue\n",
    "    preheat_chosen.append(pairs[i][0])"
   ]
  },
  {
   "cell_type": "code",
   "execution_count": 177,
   "id": "8f889590",
   "metadata": {},
   "outputs": [
    {
     "name": "stdout",
     "output_type": "stream",
     "text": [
      "6\n",
      "6\n",
      "15\n",
      "15\n",
      "34\n",
      "34\n",
      "81\n",
      "97\n",
      "97\n",
      "111\n",
      "121\n",
      "121\n",
      "157\n",
      "178\n",
      "220\n",
      "256\n",
      "261\n",
      "264\n",
      "287\n",
      "289\n",
      "289\n",
      "305\n",
      "305\n",
      "305\n",
      "305\n",
      "310\n",
      "316\n",
      "316\n",
      "321\n",
      "347\n",
      "357\n",
      "357\n",
      "357\n",
      "373\n",
      "378\n",
      "384\n",
      "423\n",
      "423\n",
      "452\n",
      "466\n",
      "496\n",
      "524\n",
      "533\n",
      "533\n",
      "586\n",
      "598\n"
     ]
    }
   ],
   "source": [
    "### sort out empty grains and see if they have any twins:\n",
    "for i in pairs:\n",
    "    \n",
    "    if len(pairs[i])==0:\n",
    "        for j in range(1, o1.shape[0] - 1):\n",
    "            misori=misorien_deg(o2m[i],o1m[j])\n",
    "            if (abs(misori-60)<2):\n",
    "                com_dist=calc_com_distance(grainid_pre,grainid_post,j,i)\n",
    "                if (com_dist<10):\n",
    "                    if checktwins(o2m[i],o1m[j]):\n",
    "                        pairs[i].append(j)\n",
    "                        print (i)\n",
    "    "
   ]
  },
  {
   "cell_type": "code",
   "execution_count": 178,
   "id": "da624f44",
   "metadata": {},
   "outputs": [],
   "source": [
    "#### get a list of grains that have been already chosen.\n",
    "preheat_chosen=[]\n",
    "for i in pairs:\n",
    "    if len(pairs[i])==0:\n",
    "        continue\n",
    "    preheat_chosen.append(pairs[i][0])"
   ]
  },
  {
   "cell_type": "code",
   "execution_count": 180,
   "id": "ba8b2703",
   "metadata": {},
   "outputs": [
    {
     "name": "stdout",
     "output_type": "stream",
     "text": [
      "581 140\n",
      "601 121\n"
     ]
    }
   ],
   "source": [
    "for i in pairs:\n",
    "    if len(pairs[i])<1:\n",
    "        vol=grainvolume(grainid_post,i)\n",
    "        if vol>100:\n",
    "            print (i,vol)\n"
   ]
  },
  {
   "cell_type": "code",
   "execution_count": 181,
   "id": "aa3f126b",
   "metadata": {},
   "outputs": [
    {
     "name": "stdout",
     "output_type": "stream",
     "text": [
      "[2, 30, 93, 98, 133, 149, 183, 187, 191, 207, 221, 230, 236, 294, 303, 309, 333, 335, 353, 390, 395, 413, 422, 455, 465, 498, 499, 514, 516, 540, 544, 547, 557, 578, 581, 596, 601, 609]\n"
     ]
    }
   ],
   "source": [
    "c=[]\n",
    "for i in pairs:\n",
    "    if len(pairs[i])==0:\n",
    "        c.append(i)\n",
    "print (c)"
   ]
  },
  {
   "cell_type": "code",
   "execution_count": 93,
   "id": "b941b24a",
   "metadata": {},
   "outputs": [],
   "source": [
    "#### get a list of grains that have been already chosen.\n",
    "preheat_chosen=[]\n",
    "for i in pairs:\n",
    "    if len(pairs[i])==0:\n",
    "        continue\n",
    "    preheat_chosen.append(pairs[i][0])"
   ]
  },
  {
   "cell_type": "code",
   "execution_count": 49,
   "id": "c7f709af",
   "metadata": {},
   "outputs": [
    {
     "name": "stdout",
     "output_type": "stream",
     "text": [
      "85 3.1889582759601063 34.83503564950723 497\n",
      "86 1.4620006548301543 9.576588625051915 236\n",
      "113 5.693478587052608 50.38067508747104 458\n",
      "128 16.980944050305578 27.951308474993272 134\n",
      "144 24.878448884102337 44.318154820960864 70\n",
      "152 2.092988768821929 43.70923622416202 390\n",
      "156 22.311808212565058 50.767808978577015 347\n",
      "183 4.689534441004482 7.171245063910567 364\n",
      "194 21.27481799582196 25.261126874538263 411\n",
      "205 7.8925650439019 52.35486555352624 435\n",
      "210 52.38649620573762 0.12177848008262493 493\n",
      "211 4.070333187314276 3.812142554066431 60\n",
      "217 11.44081499058353 40.01184334659776 264\n",
      "226 7.0303899763778785 45.582023623940735 473\n",
      "281 1.9439935812651035 20.859833935141733 134\n",
      "298 5.473519041675879 40.8164158281066 31\n",
      "302 4.0975784158472015 51.44868857205489 31\n",
      "305 3.247195449154524 39.197294166518766 469\n",
      "357 5.699065652509442 57.5522602497338 146\n",
      "363 9.549041023679335 7.408455751357415 536\n",
      "385 6.769305255729544 43.07957918708385 91\n",
      "387 5.035120967687516 17.03913787752986 191\n",
      "392 5.7492473996954425 55.1529786351452 181\n",
      "396 21.48730206906736 40.41159649364069 115\n"
     ]
    }
   ],
   "source": [
    "#### recheck misori and com of every pair.\n",
    "\n",
    "for i in pairs:\n",
    "    if len(pairs[i])!=1:\n",
    "        \n",
    "        continue\n",
    "    for j in pairs[i]:\n",
    "        misori=misorien_deg(o2m[i],o1m[j])\n",
    "        dist=calc_com_distance(grainid_pre,grainid_post,j,i)\n",
    "        if (58>misori>2)| (dist>10):\n",
    "            print (i,dist,misori,j)"
   ]
  },
  {
   "cell_type": "code",
   "execution_count": 182,
   "id": "d551ef81-c486-44cb-83af-350e1c329515",
   "metadata": {},
   "outputs": [],
   "source": [
    "### saved ni grain tracking as  a pickle file . This is for segmented volume version2\n",
    "import pickle\n",
    "with open(\"grain_tracking_v5_merged_phases_align_posttopre.pickle\", \"wb\") as f:\n",
    "    pickle.dump(pairs, f)\n"
   ]
  },
  {
   "cell_type": "code",
   "execution_count": 183,
   "id": "2622b532",
   "metadata": {},
   "outputs": [],
   "source": [
    "### saved ni grain tracking as  a pickle file . This is for segmented volume version2\n",
    "import pickle\n",
    "with open(\"grain_tracking_v5_merged_phases_align_pretopost.pickle\", \"wb\") as f:\n",
    "    pickle.dump(preheat_chosen, f)\n"
   ]
  },
  {
   "cell_type": "code",
   "execution_count": null,
   "id": "dc02a4fd",
   "metadata": {},
   "outputs": [],
   "source": []
  }
 ],
 "metadata": {
  "kernelspec": {
   "display_name": "orix_env",
   "language": "python",
   "name": "orix_env"
  },
  "language_info": {
   "codemirror_mode": {
    "name": "ipython",
    "version": 3
   },
   "file_extension": ".py",
   "mimetype": "text/x-python",
   "name": "python",
   "nbconvert_exporter": "python",
   "pygments_lexer": "ipython3",
   "version": "3.8.0"
  }
 },
 "nbformat": 4,
 "nbformat_minor": 5
}
